{
 "cells": [
  {
   "cell_type": "code",
   "execution_count": null,
   "id": "031d8b0e-c9d8-458e-9eb8-f0471dfc7889",
   "metadata": {},
   "outputs": [],
   "source": []
  }
 ],
 "metadata": {
  "kernelspec": {
   "display_name": "",
   "name": ""
  },
  "language_info": {
   "name": ""
  }
 },
 "nbformat": 4,
 "nbformat_minor": 5
}
